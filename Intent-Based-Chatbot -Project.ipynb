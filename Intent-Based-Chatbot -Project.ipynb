{
 "cells": [
  {
   "cell_type": "markdown",
   "id": "b629ad17-94be-4874-8d0c-ea10c4bb8fd9",
   "metadata": {},
   "source": [
    "# Intent-Based Chatbot Project\n",
    "\n",
    "#### Developed by BHARATH T"
   ]
  },
  {
   "cell_type": "markdown",
   "id": "2ca91660-e949-453e-ad79-63aa8bfe8524",
   "metadata": {},
   "source": [
    "## Introduction To Chatbots:"
   ]
  },
  {
   "cell_type": "markdown",
   "id": "84a4621e-62f3-49be-b9c9-d611114c7d88",
   "metadata": {},
   "source": [
    "#### What is a chatbot?\r\n",
    "A chatbot is a computer program that simulates human conversation with an end user. Not all chatbots are equipped with artificial intelligence (AI), but modern chatbots increasingly use conversational AI techniques such as natural language processing (NLP) to understand user questions and automate responses to them."
   ]
  },
  {
   "cell_type": "markdown",
   "id": "ee3ce782-0b81-4069-a1d1-7c582355d028",
   "metadata": {},
   "source": [
    "#### Benefits of chatbots\n",
    "The ability of AI chatbots to accurately process natural human language and automate personalised service in return creates clear benefits for businesses and customers alike."
   ]
  },
  {
   "cell_type": "markdown",
   "id": "7c2aef72-19e7-4e0e-9c80-c498930a1788",
   "metadata": {},
   "source": [
    "#### How Chatbots Work:\n",
    "##### 1. Input Processing:\n",
    "When a user interacts with a chatbot, their input (text or voice) is processed using NLP techniques to identify key words and understand the intent behind the query. \n",
    "##### 2. Matching with Knowledge Base:\n",
    "The chatbot then matches the user's input with pre-defined patterns or data in its knowledge base to retrieve relevant information or responses. \n",
    "##### 3. Response Generation:\n",
    "Depending on the chatbot type, the response could be generated using pre-defined rules, a decision tree, or machine learning algorithms to formulate a natural-sounding reply. "
   ]
  },
  {
   "cell_type": "markdown",
   "id": "e6d0b876-3abd-4a32-bfaa-e422339d88e4",
   "metadata": {},
   "source": [
    "#### Challenges of Chatbots:\n",
    "##### 1. Context Understanding:\n",
    "Difficulty in interpreting the full context of a conversation, leading to misinterpretations or irrelevant responses, especially with complex or ambiguous questions. \n",
    "##### 2. Natural Language Variation:\n",
    "Handling slang, dialects, and different ways of phrasing the same question. \n",
    "##### 3. Handling Unanticipated Queries:\n",
    "Inability to respond appropriately to questions outside the chatbot's programmed knowledge base. \n",
    "##### 4. User Frustration:\n",
    "May cause frustration if the chatbot fails to understand user intent or provides incorrect information."
   ]
  },
  {
   "cell_type": "markdown",
   "id": "77c57258-86bc-4b90-8bfc-29a8d5889647",
   "metadata": {},
   "source": [
    "#### Types of Chatbots:\n",
    "##### 1. Rule-Based Chatbots:\n",
    "Operate on pre-defined rules and keywords, suitable for simple, repetitive tasks with limited conversational complexity. \n",
    "Menu-Driven Chatbots:\n",
    "Provide users with a list of options to choose from, guiding them through a structured conversation flow. \n",
    "##### 2. AI-Powered Chatbots (Machine Learning):\n",
    "Utilise machine learning algorithms to learn from interactions and progressively improve their ability to understand and respond to complex queries. \n",
    "##### 3. Hybrid Chatbots:\n",
    "Combine elements of rule-based and AI-powered approaches, allowing for both structured responses and more natural conversations depending on the situation."
   ]
  },
  {
   "cell_type": "markdown",
   "id": "03aee7c6-c625-43d8-9839-b1e0d6507cdc",
   "metadata": {},
   "source": [
    "### Problem Statement\n",
    "The objective of this project is to develop an intent-based chatbot capable of understanding and responding to user inputs using Natural Language Processing (NLP) techniques. The chatbot will classify user inputs into predefined intents using a Logistic Regression model. Based on the predicted intents, the chatbot will generate dynamic and relevant responses to provide an interactive experience.\n",
    "To ensure seamless communication, the chatbot will feature a Streamlit-based user interface that enables real-time user input and response generation. The system will utilize tokenization and TF-IDF vectorization techniques for text preprocessing and feature extraction.\n",
    "This project serves as a foundational step in building conversational agents with potential applications in customer support, virtual assistants, and knowledge-based systems.\n"
   ]
  },
  {
   "cell_type": "markdown",
   "id": "bd028367-2cab-4c40-8e3b-07b3d0656bf3",
   "metadata": {},
   "source": [
    "### Project Objectives\n",
    "The main objectives of this project are as follows:\n",
    "#### 1.\tDevelop an NLP-Based Chatbot:\n",
    "Create a chatbot capable of classifying user inputs into predefined categories (intents) using Natural Language Processing techniques.\n",
    "#### 2.\tImplement Text Preprocessing:\n",
    "Use tokenization and TF-IDF vectorization to preprocess and convert textual data into numerical formats suitable for machine learning.\n",
    "#### 3.\tTrain a Logistic Regression Model:\n",
    "Build and train a Logistic Regression model to classify user inputs into intents with high accuracy and reliability.\n",
    "#### 4.\tDesign an Interactive User Interface:\n",
    "Use the Streamlit framework to create a user-friendly chatbot interface. The interface will allow users to input messages and view real-time responses.\n",
    "#### 5.\tDynamically Generate Responses:\n",
    "Based on the predicted intent, the chatbot will generate appropriate responses by selecting from a list of predefined answers corresponding to each intent.\n",
    "#### 6.\tEnsure Model Performance and Efficiency:\n",
    "Optimize the model to deliver quick and accurate predictions, ensuring smooth user interaction and response delivery.\n",
    "#### 7.\tProvide a Seamless User Experience:\n",
    "Develop a system where users can interact with the chatbot effortlessly, enabling quick information retrieval and responses.\n"
   ]
  },
  {
   "cell_type": "markdown",
   "id": "bbdc24ab-d1f0-4a0e-b91d-dcc1dbde30bc",
   "metadata": {},
   "source": [
    "## Tool"
   ]
  },
  {
   "cell_type": "markdown",
   "id": "9738c63d-0a52-4392-8ebf-102224618903",
   "metadata": {},
   "source": [
    "#### Jupyter Notebook\n",
    "\n",
    "### Libraries:\n",
    "##### json\n",
    "##### pandas\n",
    "##### matplot\n",
    "##### seaborn\n",
    "##### sklearn (scikit-learn)\n",
    "\n",
    "### Languages:\n",
    "##### Python\n",
    "##### Artificial Intelligence\n",
    "##### Machine Learning"
   ]
  },
  {
   "cell_type": "markdown",
   "id": "91392533-42a0-4c2b-b7d4-6fda7db11629",
   "metadata": {},
   "source": [
    "## Cleaning The Dataset"
   ]
  },
  {
   "cell_type": "code",
   "execution_count": 16,
   "id": "666aca59-3ea3-417c-98b2-01480c856087",
   "metadata": {},
   "outputs": [],
   "source": [
    "# Import necessary libraries\n",
    "import json\n",
    "import pandas as pd"
   ]
  },
  {
   "cell_type": "markdown",
   "id": "7828526e-cf7e-473d-9952-02ba807043be",
   "metadata": {},
   "source": [
    "Import JSON and Pandas libraries \n",
    "JSON: used to handle the JSON data and JSON files.\n",
    "Pandas: used to manipulate the data."
   ]
  },
  {
   "cell_type": "code",
   "execution_count": 18,
   "id": "53b7866d-d489-42bd-a869-f05435b73735",
   "metadata": {},
   "outputs": [],
   "source": [
    "# Load the dataset\n",
    "file_path = 'intents.json'\n",
    "with open(file_path, 'r') as file:\n",
    "    data = json.load(file)"
   ]
  },
  {
   "cell_type": "markdown",
   "id": "a431c076-eb83-4344-abc6-910a68db2e83",
   "metadata": {},
   "source": [
    "The json.load function reads the JSON data from the specified file_path and loads it."
   ]
  },
  {
   "cell_type": "code",
   "execution_count": 19,
   "id": "1cea6dc2-0c38-430f-832b-c4f8b235ca1e",
   "metadata": {},
   "outputs": [],
   "source": [
    "# Convert the JSON data to a DataFrame for easier manipulation\n",
    "tags = []\n",
    "patterns = []\n",
    "responses = []\n",
    "\n",
    "for intent in data:\n",
    "    tag = intent.get('tag', None)\n",
    "    for pattern in intent.get('patterns', []):\n",
    "        tags.append(tag)\n",
    "        patterns.append(pattern)\n",
    "        responses.append(\"|\".join(intent.get('responses', [])))  # Join responses as a single column"
   ]
  },
  {
   "cell_type": "markdown",
   "id": "48a284c2-fa86-47f8-b2a9-b12256fe66c4",
   "metadata": {},
   "source": [
    "##### 1. The code iterates through each intent in the JSON data.\n",
    "##### 2. For each intent, it extracts the tag, patterns, and responses.\n",
    "##### 3. The patterns and responses are appended to their respective lists.\n",
    "##### 4. The responses are joined into a single string using the | delimiter.\n",
    "##### 5. A pandas DataFrame is created with the extracted data, having columns for Tag, Pattern, and Response."
   ]
  },
  {
   "cell_type": "code",
   "execution_count": 20,
   "id": "207fbccd-68c8-4f0d-8e28-21da60cfefab",
   "metadata": {},
   "outputs": [],
   "source": [
    "# Create DataFrame\n",
    "df = pd.DataFrame({'Tag': tags, 'Pattern': patterns, 'Response': responses})"
   ]
  },
  {
   "cell_type": "code",
   "execution_count": 21,
   "id": "c53a595d-53bf-4cfb-8ad1-78ce946755e2",
   "metadata": {},
   "outputs": [
    {
     "name": "stdout",
     "output_type": "stream",
     "text": [
      "Initial Data Overview:\n",
      "        Tag      Pattern                                           Response\n",
      "0  greeting           Hi  Hi there|Hello|Hey|I'm fine, thank you|Nothing...\n",
      "1  greeting        Hello  Hi there|Hello|Hey|I'm fine, thank you|Nothing...\n",
      "2  greeting          Hey  Hi there|Hello|Hey|I'm fine, thank you|Nothing...\n",
      "3  greeting  How are you  Hi there|Hello|Hey|I'm fine, thank you|Nothing...\n",
      "4  greeting    What's up  Hi there|Hello|Hey|I'm fine, thank you|Nothing...\n"
     ]
    }
   ],
   "source": [
    "# Display initial data overview\n",
    "print(\"Initial Data Overview:\")\n",
    "print(df.head())"
   ]
  },
  {
   "cell_type": "markdown",
   "id": "3b940f90-3b54-4c64-ad33-e0f44537ece4",
   "metadata": {},
   "source": [
    "The df.head() method displays the first few rows of the DataFrame to get a quick look at the data."
   ]
  },
  {
   "cell_type": "code",
   "execution_count": 22,
   "id": "12127225-ec64-4b4b-ad53-e5d8948aced4",
   "metadata": {},
   "outputs": [],
   "source": [
    "# Cleaning Steps:\n",
    "# 1. Remove duplicates\n",
    "df.drop_duplicates(inplace=True)"
   ]
  },
  {
   "cell_type": "markdown",
   "id": "d1e42945-57fc-4b17-822f-aaaf419bf5c8",
   "metadata": {},
   "source": [
    "The df.drop_duplicates() method removes any duplicate rows in the DataFrame."
   ]
  },
  {
   "cell_type": "code",
   "execution_count": 23,
   "id": "1ca5a346-48a6-4711-a6ed-6363274a8ee9",
   "metadata": {},
   "outputs": [
    {
     "name": "stdout",
     "output_type": "stream",
     "text": [
      "\n",
      "Missing Values Before Cleanup:\n",
      "Tag         0\n",
      "Pattern     0\n",
      "Response    0\n",
      "dtype: int64\n"
     ]
    }
   ],
   "source": [
    "# 2. Check for missing values\n",
    "print(\"\\nMissing Values Before Cleanup:\")\n",
    "print(df.isnull().sum())"
   ]
  },
  {
   "cell_type": "markdown",
   "id": "5e97e8e7-ac47-4c1a-8314-c9f21585654d",
   "metadata": {},
   "source": [
    "The df.isnull().sum() method calculates the number of missing values in each column."
   ]
  },
  {
   "cell_type": "code",
   "execution_count": 24,
   "id": "bbb5cb56-7354-4350-9ff8-3fde1c6733cf",
   "metadata": {},
   "outputs": [],
   "source": [
    "# Drop rows where Tag or Pattern is missing (required fields)\n",
    "df.dropna(subset=['Tag', 'Pattern'], inplace=True)"
   ]
  },
  {
   "cell_type": "markdown",
   "id": "9ea9acf2-42ed-4ccf-abd4-d6f2d2e0d823",
   "metadata": {},
   "source": [
    "Rows with missing values in the Tag or Pattern columns are dropped as these are essential fields."
   ]
  },
  {
   "cell_type": "code",
   "execution_count": 25,
   "id": "772ea1a3-6a64-44b9-8306-a57b6f81879b",
   "metadata": {},
   "outputs": [
    {
     "name": "stdout",
     "output_type": "stream",
     "text": [
      "\n",
      "Data After Cleaning:\n",
      "        Tag      Pattern                                           Response\n",
      "0  greeting           Hi  Hi there|Hello|Hey|I'm fine, thank you|Nothing...\n",
      "1  greeting        Hello  Hi there|Hello|Hey|I'm fine, thank you|Nothing...\n",
      "2  greeting          Hey  Hi there|Hello|Hey|I'm fine, thank you|Nothing...\n",
      "3  greeting  How are you  Hi there|Hello|Hey|I'm fine, thank you|Nothing...\n",
      "4  greeting    What's up  Hi there|Hello|Hey|I'm fine, thank you|Nothing...\n"
     ]
    }
   ],
   "source": [
    "# Check for cleaned DataFrame\n",
    "print(\"\\nData After Cleaning:\")\n",
    "print(df.head())"
   ]
  },
  {
   "cell_type": "code",
   "execution_count": 27,
   "id": "ce08694f-b753-4bf9-8a66-f577f2b680b5",
   "metadata": {},
   "outputs": [],
   "source": [
    "# Optionally save the cleaned data back to JSON\n",
    "# Reorganize cleaned data to the original structure\n",
    "cleaned_data = []\n",
    "for tag in df['Tag'].unique():\n",
    "    filtered = df[df['Tag'] == tag]\n",
    "    patterns = filtered['Pattern'].tolist()\n",
    "    responses = list(set(\"|\".join(filtered['Response']).split('|')))  # Get unique responses\n",
    "\n",
    "    cleaned_data.append({\n",
    "        'tag': tag,\n",
    "        'patterns': patterns,\n",
    "        'responses': responses\n",
    "    })"
   ]
  },
  {
   "cell_type": "markdown",
   "id": "014ddbe9-22f8-4713-af7f-f3672b07ea7d",
   "metadata": {},
   "source": [
    "### Reorganizing the Data:\n",
    "The cleaned DataFrame is grouped by Tag.\n",
    "For each Tag, the unique patterns and responses are extracted.\n",
    "The reorganized data is formatted into a list of dictionaries, each representing an intent.\n",
    "\n",
    "#### Saving to JSON:\n",
    "The json.dump() function writes the cleaned data to a new JSON file, cleaned_intents.json."
   ]
  },
  {
   "cell_type": "code",
   "execution_count": 28,
   "id": "277b4f24-f925-44be-a916-6d52c6fa421c",
   "metadata": {},
   "outputs": [
    {
     "name": "stdout",
     "output_type": "stream",
     "text": [
      "\n",
      "Cleaned data saved to cleaned_intents.json.\n"
     ]
    }
   ],
   "source": [
    "# Save to a new JSON file\n",
    "output_path = 'cleaned_intents.json'\n",
    "with open(output_path, 'w') as file:\n",
    "    json.dump(cleaned_data, file, indent=4)\n",
    "\n",
    "print(f\"\\nCleaned data saved to {output_path}.\")"
   ]
  },
  {
   "cell_type": "code",
   "execution_count": null,
   "id": "f22c1a6a-ed89-4e2f-a2b9-9252829f558c",
   "metadata": {},
   "outputs": [],
   "source": []
  },
  {
   "cell_type": "markdown",
   "id": "2d236044-2d52-461b-8770-8563c13ee4fe",
   "metadata": {},
   "source": [
    "## Exploratory Data Analysis"
   ]
  },
  {
   "cell_type": "code",
   "execution_count": 4,
   "id": "9b84a26c-5af0-46fa-8c2a-5e20922203d8",
   "metadata": {},
   "outputs": [
    {
     "name": "stdout",
     "output_type": "stream",
     "text": [
      "Dataset Overview:\n",
      "\n",
      "        Tag  Patterns_Count  Responses_Count\n",
      "0  greeting               5                5\n",
      "1   goodbye               4                3\n",
      "2    thanks               4                3\n",
      "3     about               4                3\n",
      "4      help               4                3\n",
      "\n",
      "Summary Statistics:\n",
      "\n",
      "       Patterns_Count  Responses_Count\n",
      "count      273.000000       273.000000\n",
      "mean         3.058608         2.076923\n",
      "std          0.458026         0.360681\n",
      "min          2.000000         2.000000\n",
      "25%          3.000000         2.000000\n",
      "50%          3.000000         2.000000\n",
      "75%          3.000000         2.000000\n",
      "max          6.000000         5.000000\n",
      "\n",
      "Missing Values:\n",
      "\n",
      "Tag                0\n",
      "Patterns_Count     0\n",
      "Responses_Count    0\n",
      "dtype: int64\n"
     ]
    },
    {
     "name": "stderr",
     "output_type": "stream",
     "text": [
      "D:\\Anaconda\\Lib\\site-packages\\seaborn\\_oldcore.py:1119: FutureWarning: use_inf_as_na option is deprecated and will be removed in a future version. Convert inf values to NaN before operating instead.\n",
      "  with pd.option_context('mode.use_inf_as_na', True):\n",
      "D:\\Anaconda\\Lib\\site-packages\\seaborn\\_oldcore.py:1119: FutureWarning: use_inf_as_na option is deprecated and will be removed in a future version. Convert inf values to NaN before operating instead.\n",
      "  with pd.option_context('mode.use_inf_as_na', True):\n"
     ]
    },
    {
     "data": {
      "image/png": "[encoded data removed]",
      "text/plain": [
       "<Figure size 1200x600 with 2 Axes>"
      ]
     },
     "metadata": {},
     "output_type": "display_data"
    },
    {
     "data": {
      "image/png": "[encoded data removed]",
      "text/plain": [
       "<Figure size 1000x500 with 1 Axes>"
      ]
     },
     "metadata": {},
     "output_type": "display_data"
    },
    {
     "data": {
      "image/png": "[encoded data removed]",
      "text/plain": [
       "<Figure size 800x600 with 1 Axes>"
      ]
     },
     "metadata": {},
     "output_type": "display_data"
    }
   ],
   "source": [
    "import json\n",
    "import pandas as pd\n",
    "import matplotlib.pyplot as plt\n",
    "import seaborn as sns\n",
    "\n",
    "# Load the JSON file\n",
    "file_path = 'cleaned_intents.json'\n",
    "with open(file_path, 'r') as file:\n",
    "    data = json.load(file)\n",
    "\n",
    "# Convert JSON data to DataFrame for analysis\n",
    "tags = []\n",
    "patterns_count = []\n",
    "responses_count = []\n",
    "\n",
    "for intent in data:\n",
    "    tags.append(intent.get('tag', None))\n",
    "    patterns_count.append(len(intent.get('patterns', [])))\n",
    "    responses_count.append(len(intent.get('responses', [])))\n",
    "\n",
    "# Create a DataFrame\n",
    "df = pd.DataFrame({\n",
    "    'Tag': tags,\n",
    "    'Patterns_Count': patterns_count,\n",
    "    'Responses_Count': responses_count\n",
    "})\n",
    "\n",
    "# Overview of the data\n",
    "print(\"Dataset Overview:\\n\")\n",
    "print(df.head())\n",
    "\n",
    "# Summary statistics\n",
    "print(\"\\nSummary Statistics:\\n\")\n",
    "print(df.describe())\n",
    "\n",
    "# Check for missing values\n",
    "print(\"\\nMissing Values:\\n\")\n",
    "print(df.isnull().sum())\n",
    "\n",
    "# Distribution of Patterns and Responses\n",
    "plt.figure(figsize=(12, 6))\n",
    "\n",
    "plt.subplot(1, 2, 1)\n",
    "sns.histplot(df['Patterns_Count'], kde=True, color='blue', bins=10)\n",
    "plt.title('Distribution of Patterns Count')\n",
    "plt.xlabel('Patterns Count')\n",
    "\n",
    "plt.subplot(1, 2, 2)\n",
    "sns.histplot(df['Responses_Count'], kde=True, color='green', bins=10)\n",
    "plt.title('Distribution of Responses Count')\n",
    "plt.xlabel('Responses Count')\n",
    "\n",
    "plt.tight_layout()\n",
    "plt.show()\n",
    "\n",
    "# Top 10 tags with the most patterns\n",
    "top_patterns = df.sort_values(by='Patterns_Count', ascending=False).head(10)\n",
    "\n",
    "plt.figure(figsize=(10, 5))\n",
    "sns.barplot(x=top_patterns['Tag'], y=top_patterns['Patterns_Count'], palette='viridis')\n",
    "plt.title('Top 10 Tags with the Most Patterns')\n",
    "plt.xticks(rotation=45, ha='right')\n",
    "plt.ylabel('Number of Patterns')\n",
    "plt.xlabel('Tag')\n",
    "plt.show()\n",
    "\n",
    "# Correlation between Patterns and Responses\n",
    "plt.figure(figsize=(8, 6))\n",
    "sns.scatterplot(x='Patterns_Count', y='Responses_Count', data=df, color='purple')\n",
    "plt.title('Correlation Between Patterns and Responses')\n",
    "plt.xlabel('Patterns Count')\n",
    "plt.ylabel('Responses Count')\n",
    "plt.show()"
   ]
  },
  {
   "cell_type": "markdown",
   "id": "470e5fcb-e5aa-4f09-9e32-f0fe98f24358",
   "metadata": {},
   "source": [
    "#### 1. Imports:\n",
    "\n",
    " json: Used for loading data from the JSON file.\n",
    " pandas as pd: Enables creating and manipulating DataFrames for data analysis.\n",
    " matplotlib.pyplot as plt: Provides functionalities for creating visualizations (plots).\n",
    " seaborn as sns: A high-level library built on top of Matplotlib, offering a more user-friendly interface for creating statistical graphics.\n",
    "\n",
    "#### 2. Loading Data:\n",
    "The code specifies the file path ('cleaned_intents.json') containing the cleaned chatbot intent data. It opens the file in read mode ('r') and uses json.load() to load the data into a Python object (data).\n",
    "\n",
    "#### 3. Data Preparation for Analysis:\n",
    " Three empty lists are created: tags, patterns_count, and responses_count.\n",
    " The code iterates through each intent in the loaded data (data).\n",
    " It extracts the tag (intent identifier) and stores it in the tags list.\n",
    " It counts the number of patterns (len(intent.get('patterns', []))) associated with the intent and adds it to the patterns_count list. Similarly, the number of responses (len(intent.get('responses', []))) is calculated and stored in the responses_count list.\n",
    "\n",
    "#### 4. Creating a DataFrame:\n",
    "\n",
    " A DataFrame (df) is created using pandas.DataFrame().\n",
    " It consists of three columns:\n",
    " Tag: Stores the extracted intent identifiers from the JSON data.\n",
    " Patterns_Count: Holds the number of patterns for each intent.\n",
    " Responses_Count: Contains the number of responses associated with each intent.\n",
    "\n",
    "#### 5. Dataset Overview and Summary Statistics:\n",
    "\n",
    "The code prints the first few rows of the DataFrame (df.head()) to provide a glimpse of the data.\n",
    "It then utilizes df.describe() to display summary statistics like mean, standard deviation, minimum, and maximum values for each numerical column (i.e., Patterns_Count and Responses_Count).\n",
    "\n",
    "#### 6. Checking for Missing Values:\n",
    "\n",
    "The code uses df.isnull().sum() to check for missing values in any column. Ideally, there should be no missing values after cleaning the data.\n",
    "\n",
    "#### 7. Distribution of Patterns and Responses:\n",
    "\n",
    " This section utilizes Matplotlib and Seaborn to create visualizations:\n",
    " plt.figure(figsize=(12, 6)): Creates a figure with a specific size (width=12, height=6).\n",
    " plt.subplot(1, 2, 1): Defines a subplot layout with 1 row and 2 columns. This creates two subplots on the same figure.\n",
    " sns.histplot(df['Patterns_Count'], kde=True, color='blue', bins=10): Creates a histogram for the Patterns_Count column in the DataFrame.\n",
    " kde=True: Adds a kernel density estimation line to the plot.\n",
    " color='blue': Sets the color of the histogram bars to blue.\n",
    " bins=10: Specifies the number of bins used to create the histogram.\n",
    " Similar code with sns.histplot is used to create a histogram for the Responses_Count column in the second subplot.\n",
    " Titles and labels are added using plt.title and plt.xlabel functions.\n",
    " plt.tight_layout(): Adjusts the spacing between subplots for better readability.\n",
    " plt.show(): Displays the created figure with both histograms.\n",
    "\n",
    "#### 8. Top 10 Tags with the Most Patterns:\n",
    "\n",
    "The code sorts the DataFrame (df) by the Patterns_Count column in descending order using df.sort_values().\n",
    "It then selects the top 10 rows using head(10).\n",
    "This results in a DataFrame (top_patterns) containing the top 10 tags with the highest number of associated patterns.\n",
    "\n",
    "##### A bar chart is created using sns.barplot:\n",
    "x=top_patterns['Tag']: Sets the x-axis labels using the Tag column from the top_patterns DataFrame.\n",
    "y=top_patterns['Patterns_Count']: Sets the y-axis values using the Patterns_Count column.\n",
    "palette='viridis': Selects a color palette for the bars."
   ]
  },
  {
   "cell_type": "code",
   "execution_count": null,
   "id": "c5ad9513-4137-45ea-ade5-742ad20aaa7e",
   "metadata": {},
   "outputs": [],
   "source": []
  },
  {
   "cell_type": "markdown",
   "id": "bccdfcca-cce7-4004-ae17-b2d125d9c89b",
   "metadata": {},
   "source": [
    "## Training, Testing and Validating the datasets"
   ]
  },
  {
   "cell_type": "code",
   "execution_count": 5,
   "id": "2fa6c19c-6fe6-4dc4-86a2-70f416caf759",
   "metadata": {},
   "outputs": [
    {
     "name": "stdout",
     "output_type": "stream",
     "text": [
      "Training set size: 534\n",
      "Validation set size: 134\n",
      "Test set size: 167\n",
      "Data splits saved as 'train_data.json', 'val_data.json', and 'test_data.json'.\n"
     ]
    }
   ],
   "source": [
    "# Import necessary libraries\n",
    "import json\n",
    "from sklearn.model_selection import train_test_split\n",
    "\n",
    "# Load the JSON file\n",
    "file_path = 'cleaned_intents.json'\n",
    "with open(file_path, 'r') as file:\n",
    "    data = json.load(file)\n",
    "\n",
    "# Prepare the dataset\n",
    "patterns = []\n",
    "responses = []\n",
    "tags = []\n",
    "\n",
    "for intent in data:\n",
    "    tag = intent.get('tag')\n",
    "    for pattern in intent.get('patterns', []):\n",
    "        patterns.append(pattern)\n",
    "        responses.append(intent.get('responses'))\n",
    "        tags.append(tag)\n",
    "\n",
    "# Create a consolidated dataset\n",
    "dataset = list(zip(patterns, tags))\n",
    "\n",
    "# Split into training, validation, and test sets\n",
    "train_data, test_data = train_test_split(dataset, test_size=0.2, random_state=42)\n",
    "train_data, val_data = train_test_split(train_data, test_size=0.2, random_state=42)\n",
    "\n",
    "# Print dataset sizes\n",
    "print(f\"Training set size: {len(train_data)}\")\n",
    "print(f\"Validation set size: {len(val_data)}\")\n",
    "print(f\"Test set size: {len(test_data)}\")\n",
    "\n",
    "# Save the splits to JSON files\n",
    "def save_split(data, file_name):\n",
    "    split_data = [{\"pattern\": item[0], \"tag\": item[1]} for item in data]\n",
    "    with open(file_name, 'w') as file:\n",
    "        json.dump(split_data, file, indent=4)\n",
    "\n",
    "save_split(train_data, 'train_data.json')\n",
    "save_split(val_data, 'val_data.json')\n",
    "save_split(test_data, 'test_data.json')\n",
    "\n",
    "print(\"Data splits saved as 'train_data.json', 'val_data.json', and 'test_data.json'.\")\n"
   ]
  },
  {
   "cell_type": "markdown",
   "id": "a15931f6-9d38-43c5-a422-7ed1a79625a8",
   "metadata": {},
   "source": [
    "#### 1. Importing Necessary Libraries:\n",
    "\n",
    "json: Used for handling JSON data, specifically loading and saving JSON files.\n",
    "sklearn.model_selection: Provides tools for splitting datasets into training, validation, and testing sets.\n",
    "\n",
    "#### 2. Loading the JSON Data:\n",
    "\n",
    "The code loads the cleaned chatbot intent data from the specified file_path using json.load().\n",
    "\n",
    "#### 3. Preparing the Dataset:\n",
    "\n",
    "Three empty lists are created: patterns, responses, and tags.\n",
    "The code iterates through each intent in the loaded data:\n",
    "It extracts the tag (intent identifier).\n",
    "For each pattern associated with the intent, it adds the pattern to the patterns list, the corresponding response to the responses list, and the tag to the tags list.\n",
    "\n",
    "#### 4. Creating a Consolidated Dataset:\n",
    "\n",
    "The zip() function is used to combine patterns and tags into a list of tuples, where each tuple represents a pattern-tag pair. This creates a consolidated dataset.\n",
    "\n",
    "#### 5. Splitting into Training, Validation, and Test Sets:\n",
    "\n",
    "The train_test_split() function from sklearn.model_selection is used to split the dataset into training and testing sets.\n",
    "The1 test_size=0.2 parameter specifies that 20% of the data will be allocated to the test set.   \n",
    "1.\n",
    "github.com\n",
    "github.com\n",
    "The random_state=42 parameter ensures reproducibility of the split.\n",
    "The training set is further split into training and validation sets using the same function with the same parameters.\n",
    "\n",
    "#### 6. Printing Dataset Sizes:\n",
    "\n",
    "The code prints the number of samples in each split to provide an overview of the data distribution.\n",
    "\n",
    "#### 7. Saving the Splits to JSON Files:\n",
    "\n",
    "The save_split() function is defined to save a given split to a JSON file:\n",
    "It takes a split (a list of tuples) and a file name as input.\n",
    "It converts each tuple into a dictionary with pattern and tag keys.\n",
    "The list of dictionaries is written to the specified file using json.dump().\n",
    "The train_data, val_data, and test_data splits are saved to their respective JSON files using the save_split() function.\n",
    "Why Splitting the Dataset is Important:\n",
    "\n",
    "Training Set: Used to train the model, learning patterns from the data.\n",
    "Validation Set: Used to tune hyperparameters and evaluate the model's performance during training.\n",
    "Test Set: Used to assess the final model's performance on unseen data.\n",
    "By splitting the dataset into these sets, we can ensure that the model is trained on a diverse range of data, evaluated on a separate validation set to avoid overfitting, and finally tested on a completely unseen dataset to assess its real-world performance."
   ]
  },
  {
   "cell_type": "code",
   "execution_count": null,
   "id": "63e2739d-33ed-4686-82d1-4ec93f9c7b11",
   "metadata": {},
   "outputs": [],
   "source": []
  }
 ],
 "metadata": {
  "kernelspec": {
   "display_name": "Python 3 (ipykernel)",
   "language": "python",
   "name": "python3"
  },
  "language_info": {
   "codemirror_mode": {
    "name": "ipython",
    "version": 3
   },
   "file_extension": ".py",
   "mimetype": "text/x-python",
   "name": "python",
   "nbconvert_exporter": "python",
   "pygments_lexer": "ipython3",
   "version": "3.11.7"
  }
 },
 "nbformat": 4,
 "nbformat_minor": 5
}
